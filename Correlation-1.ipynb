{
 "cells": [
  {
   "cell_type": "code",
   "execution_count": 5,
   "id": "24c4a35e",
   "metadata": {},
   "outputs": [],
   "source": [
    "import pandas as pd\n",
    "from scipy.stats import pearsonr, spearmanr\n",
    "import numpy as np"
   ]
  },
  {
   "cell_type": "code",
   "execution_count": 3,
   "id": "ad8b1bc4",
   "metadata": {},
   "outputs": [],
   "source": [
    "data = pd.read_csv('Absenteeism_at_work.tsv', sep='\\t',low_memory=False)"
   ]
  },
  {
   "cell_type": "code",
   "execution_count": 6,
   "id": "1a545a82",
   "metadata": {},
   "outputs": [
    {
     "name": "stdout",
     "output_type": "stream",
     "text": [
      "<class 'pandas.core.frame.DataFrame'>\n",
      "RangeIndex: 740 entries, 0 to 739\n",
      "Data columns (total 21 columns):\n",
      " #   Column                           Non-Null Count  Dtype  \n",
      "---  ------                           --------------  -----  \n",
      " 0   ID                               740 non-null    int64  \n",
      " 1   Reason for absence               740 non-null    int64  \n",
      " 2   Month of absence                 740 non-null    int64  \n",
      " 3   Day of the week                  740 non-null    int64  \n",
      " 4   Seasons                          740 non-null    int64  \n",
      " 5   Transportation expense           740 non-null    int64  \n",
      " 6   Distance from Residence to Work  740 non-null    int64  \n",
      " 7   Service time                     740 non-null    int64  \n",
      " 8   Age                              740 non-null    int64  \n",
      " 9   Work load Average/day            740 non-null    float64\n",
      " 10  Hit target                       740 non-null    int64  \n",
      " 11  Disciplinary failure             740 non-null    int64  \n",
      " 12  Education                        740 non-null    int64  \n",
      " 13  Son                              740 non-null    int64  \n",
      " 14  Social drinker                   740 non-null    int64  \n",
      " 15  Social smoker                    740 non-null    int64  \n",
      " 16  Pet                              740 non-null    int64  \n",
      " 17  Weight                           740 non-null    int64  \n",
      " 18  Height                           740 non-null    int64  \n",
      " 19  Body mass index                  740 non-null    int64  \n",
      " 20  Absenteeism time in hours        740 non-null    int64  \n",
      "dtypes: float64(1), int64(20)\n",
      "memory usage: 121.5 KB\n"
     ]
    }
   ],
   "source": [
    "data.info()"
   ]
  },
  {
   "cell_type": "code",
   "execution_count": 13,
   "id": "266b31e9",
   "metadata": {},
   "outputs": [
    {
     "data": {
      "text/plain": [
       "0      26\n",
       "1       0\n",
       "2      23\n",
       "3       7\n",
       "4      23\n",
       "       ..\n",
       "735    14\n",
       "736    11\n",
       "737     0\n",
       "738     0\n",
       "739     0\n",
       "Name: Reason for absence, Length: 740, dtype: int64"
      ]
     },
     "execution_count": 13,
     "metadata": {},
     "output_type": "execute_result"
    }
   ],
   "source": [
    "data['Reason for absence']"
   ]
  },
  {
   "cell_type": "code",
   "execution_count": 7,
   "id": "c4e867fd",
   "metadata": {},
   "outputs": [
    {
     "data": {
      "text/plain": [
       "array([[1.        , 0.11631924],\n",
       "       [0.11631924, 1.        ]])"
      ]
     },
     "execution_count": 7,
     "metadata": {},
     "output_type": "execute_result"
    }
   ],
   "source": [
    "np.corrcoef(data['Day of the week'], data['Reason for absence'])"
   ]
  },
  {
   "cell_type": "code",
   "execution_count": 14,
   "id": "35bbf82b",
   "metadata": {},
   "outputs": [
    {
     "data": {
      "text/plain": [
       "(0.11631924393042804, 0.001526270295711275)"
      ]
     },
     "execution_count": 14,
     "metadata": {},
     "output_type": "execute_result"
    }
   ],
   "source": [
    "pearsonr(data['Day of the week'], data['Reason for absence'])"
   ]
  },
  {
   "cell_type": "code",
   "execution_count": 15,
   "id": "cc7ccbaf",
   "metadata": {},
   "outputs": [
    {
     "data": {
      "text/plain": [
       "SpearmanrResult(correlation=0.12246263308006688, pvalue=0.0008429727110657136)"
      ]
     },
     "execution_count": 15,
     "metadata": {},
     "output_type": "execute_result"
    }
   ],
   "source": [
    "spearmanr(data['Day of the week'], data['Reason for absence'])"
   ]
  },
  {
   "cell_type": "markdown",
   "id": "5095041a",
   "metadata": {},
   "source": [
    "# Day of the week and reason for absence"
   ]
  },
  {
   "cell_type": "markdown",
   "id": "83cec9a4",
   "metadata": {},
   "source": [
    "There is a weak positive correlation that is signifigant. The day of the week slightly impacts the reason for absence."
   ]
  },
  {
   "cell_type": "code",
   "execution_count": 17,
   "id": "7f8ef9f5",
   "metadata": {},
   "outputs": [
    {
     "data": {
      "text/plain": [
       "(-0.0015195444984268044, 0.9670836591482739)"
      ]
     },
     "execution_count": 17,
     "metadata": {},
     "output_type": "execute_result"
    }
   ],
   "source": [
    "pearsonr(data['Month of absence'], data['Age'])"
   ]
  },
  {
   "cell_type": "code",
   "execution_count": 18,
   "id": "a6d7af7a",
   "metadata": {},
   "outputs": [
    {
     "data": {
      "text/plain": [
       "SpearmanrResult(correlation=0.0016805552597149393, pvalue=0.9635981476773132)"
      ]
     },
     "execution_count": 18,
     "metadata": {},
     "output_type": "execute_result"
    }
   ],
   "source": [
    "spearmanr(data['Month of absence'], data['Age'])"
   ]
  },
  {
   "cell_type": "markdown",
   "id": "c65a7d3c",
   "metadata": {},
   "source": [
    "# Month of absence and Age"
   ]
  },
  {
   "cell_type": "markdown",
   "id": "8f56b0ae",
   "metadata": {},
   "source": [
    "There is no correlation between the month of absence and Age. The month of absence is not impacted by Age."
   ]
  },
  {
   "cell_type": "code",
   "execution_count": 20,
   "id": "3a8c3eea",
   "metadata": {},
   "outputs": [
    {
     "data": {
      "text/plain": [
       "(-0.1479708344455568, 5.329171363725385e-05)"
      ]
     },
     "execution_count": 20,
     "metadata": {},
     "output_type": "execute_result"
    }
   ],
   "source": [
    "pearsonr(data['Hit target'], data['Disciplinary failure'])"
   ]
  },
  {
   "cell_type": "code",
   "execution_count": 21,
   "id": "d67646a1",
   "metadata": {},
   "outputs": [
    {
     "data": {
      "text/plain": [
       "SpearmanrResult(correlation=-0.11472538854357511, pvalue=0.001772504612734226)"
      ]
     },
     "execution_count": 21,
     "metadata": {},
     "output_type": "execute_result"
    }
   ],
   "source": [
    "spearmanr(data['Hit target'], data['Disciplinary failure'])"
   ]
  },
  {
   "cell_type": "markdown",
   "id": "663379bc",
   "metadata": {},
   "source": [
    "# Hit Target and Disciplinary Failure"
   ]
  },
  {
   "cell_type": "markdown",
   "id": "390f3181",
   "metadata": {},
   "source": [
    "The hit target and disciplinary failure have a weak negative correlation and is significant."
   ]
  },
  {
   "cell_type": "code",
   "execution_count": 22,
   "id": "1ef4375a",
   "metadata": {},
   "outputs": [
    {
     "data": {
      "text/plain": [
       "(0.048425115424340914, 0.18822416547756862)"
      ]
     },
     "execution_count": 22,
     "metadata": {},
     "output_type": "execute_result"
    }
   ],
   "source": [
    "pearsonr(data['Service time'], data['Reason for absence'])"
   ]
  },
  {
   "cell_type": "code",
   "execution_count": 23,
   "id": "161a65f4",
   "metadata": {},
   "outputs": [
    {
     "data": {
      "text/plain": [
       "SpearmanrResult(correlation=0.08398925927149598, pvalue=0.022316883034199483)"
      ]
     },
     "execution_count": 23,
     "metadata": {},
     "output_type": "execute_result"
    }
   ],
   "source": [
    "spearmanr(data['Service time'], data['Reason for absence'])"
   ]
  },
  {
   "cell_type": "markdown",
   "id": "2c353c31",
   "metadata": {},
   "source": [
    "# Service time and Reason for absence"
   ]
  },
  {
   "cell_type": "markdown",
   "id": "94445f0c",
   "metadata": {},
   "source": [
    "The Service Time and Reason for absence have no correlation and are not significant."
   ]
  },
  {
   "cell_type": "code",
   "execution_count": 26,
   "id": "84d00efc",
   "metadata": {},
   "outputs": [
    {
     "data": {
      "text/plain": [
       "(0.26218311063190775, 4.2533009832573875e-13)"
      ]
     },
     "execution_count": 26,
     "metadata": {},
     "output_type": "execute_result"
    }
   ],
   "source": [
    "pearsonr(data['Transportation expense'], data['Distance from Residence to Work'])"
   ]
  },
  {
   "cell_type": "code",
   "execution_count": 27,
   "id": "e2cee8dc",
   "metadata": {},
   "outputs": [
    {
     "data": {
      "text/plain": [
       "SpearmanrResult(correlation=0.287267232417557, pvalue=1.588177816180632e-15)"
      ]
     },
     "execution_count": 27,
     "metadata": {},
     "output_type": "execute_result"
    }
   ],
   "source": [
    "spearmanr(data['Transportation expense'], data['Distance from Residence to Work'])"
   ]
  },
  {
   "cell_type": "markdown",
   "id": "1a5ba3d4",
   "metadata": {},
   "source": [
    "# Transportaion Expense and Distance from Residence to Work"
   ]
  },
  {
   "cell_type": "markdown",
   "id": "c9dd5dee",
   "metadata": {},
   "source": [
    "The Transportaion Expense and Distance from Residence to Work have a noticeable postive correlation that is significant."
   ]
  },
  {
   "cell_type": "code",
   "execution_count": 30,
   "id": "8bba2145",
   "metadata": {},
   "outputs": [
    {
     "data": {
      "text/plain": [
       "(-0.23122599912658473, 1.9420065119551898e-10)"
      ]
     },
     "execution_count": 30,
     "metadata": {},
     "output_type": "execute_result"
    }
   ],
   "source": [
    "pearsonr(data['Age'], data['Pet'])"
   ]
  },
  {
   "cell_type": "code",
   "execution_count": 31,
   "id": "f8e0eec5",
   "metadata": {},
   "outputs": [
    {
     "data": {
      "text/plain": [
       "SpearmanrResult(correlation=-0.27576995864941006, pvalue=2.2121000884657082e-14)"
      ]
     },
     "execution_count": 31,
     "metadata": {},
     "output_type": "execute_result"
    }
   ],
   "source": [
    "spearmanr(data['Age'], data['Pet'])"
   ]
  },
  {
   "cell_type": "markdown",
   "id": "7802edd1",
   "metadata": {},
   "source": [
    "# Age and Pet"
   ]
  },
  {
   "cell_type": "markdown",
   "id": "9f476dae",
   "metadata": {},
   "source": [
    "The Age and Pet have a noticeable negative correlation that is significant."
   ]
  },
  {
   "cell_type": "code",
   "execution_count": 32,
   "id": "0bd47f23",
   "metadata": {},
   "outputs": [
    {
     "data": {
      "text/plain": [
       "(-0.12436061376972112, 0.0006978426162534148)"
      ]
     },
     "execution_count": 32,
     "metadata": {},
     "output_type": "execute_result"
    }
   ],
   "source": [
    "pearsonr(data['Absenteeism time in hours'], data['Day of the week'])"
   ]
  },
  {
   "cell_type": "code",
   "execution_count": 33,
   "id": "cb5fc11a",
   "metadata": {},
   "outputs": [
    {
     "data": {
      "text/plain": [
       "SpearmanrResult(correlation=-0.0945472314370009, pvalue=0.01007101146881483)"
      ]
     },
     "execution_count": 33,
     "metadata": {},
     "output_type": "execute_result"
    }
   ],
   "source": [
    "spearmanr(data['Absenteeism time in hours'], data['Day of the week'])"
   ]
  },
  {
   "cell_type": "markdown",
   "id": "5deec7da",
   "metadata": {},
   "source": [
    "# Absenteeism time in hours and Day of the week"
   ]
  },
  {
   "cell_type": "markdown",
   "id": "25532516",
   "metadata": {},
   "source": [
    "The Absenteeism time in hours and Day of the week have a weak negative correlation that is slightly significant."
   ]
  }
 ],
 "metadata": {
  "kernelspec": {
   "display_name": "Python 3 (ipykernel)",
   "language": "python",
   "name": "python3"
  },
  "language_info": {
   "codemirror_mode": {
    "name": "ipython",
    "version": 3
   },
   "file_extension": ".py",
   "mimetype": "text/x-python",
   "name": "python",
   "nbconvert_exporter": "python",
   "pygments_lexer": "ipython3",
   "version": "3.9.11"
  }
 },
 "nbformat": 4,
 "nbformat_minor": 5
}
